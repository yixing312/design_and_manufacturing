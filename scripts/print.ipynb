{
 "cells": [
  {
   "cell_type": "code",
   "execution_count": 3,
   "metadata": {},
   "outputs": [
    {
     "name": "stdout",
     "output_type": "stream",
     "text": [
      "读取文件： 1x.txt 成功！\n",
      "读取文件： 1y.txt 成功！\n",
      "读取文件： 2x.txt 成功！\n",
      "读取文件： 2y.txt 成功！\n",
      "读取文件： 3x.txt 成功！\n",
      "读取文件： 3y.txt 成功！\n",
      "<class 'list'> <class 'list'> <class 'list'> <class 'list'>\n",
      "<class 'list'> <class 'list'> <class 'list'> <class 'list'>\n",
      "<class 'list'> <class 'list'> <class 'list'> <class 'list'>\n"
     ]
    },
    {
     "data": {
      "image/png": "[encoded data removed]",
      "text/plain": [
       "<Figure size 640x480 with 3 Axes>"
      ]
     },
     "metadata": {},
     "output_type": "display_data"
    }
   ],
   "source": [
    "import matplotlib.pyplot as plt\n",
    "import os\n",
    "import numpy as np\n",
    "from get_data import get_data_list  # 读取文件并输出位列表\n",
    "# from get_data import get_data_dict  # 读取文件并输出为以首行为键的字典\n",
    "\n",
    "\n",
    "def print_cross_section(ax, data_x, data_y):\n",
    "    \"\"\"\n",
    "    画出截面数据，并在角落展示该截面的圆度\n",
    "    :param ax: 画布\n",
    "    :param data: 截面数据\n",
    "    :return: 圆度\n",
    "    \"\"\"\n",
    "    x = [float(data_x[i][2]) for i in range(len(data_x))]\n",
    "    y = [float(data_y[i][4]) for i in range(len(data_y))]\n",
    "    dx = [float(data_x[i][-1]) for i in range(len(data_x))]\n",
    "    dy = [float(data_y[i][-1]) for i in range(len(data_y))]\n",
    "    print(type(x), type(y), type(dx), type(dy))\n",
    "    ax.quiver(x, y, dx, dy,  scale=1, cmap=\"viridis\")\n",
    "    # ax.set_xticks([])\n",
    "    # ax.set_yticks([])\n",
    "\n",
    "\n",
    "def print_main(ax, data_all):\n",
    "    \"\"\"\n",
    "    画出主图\n",
    "    :param ax: 画布\n",
    "    :param data: 主图数据\n",
    "    :return:\n",
    "    \"\"\"\n",
    "\n",
    "\n",
    "def print_side(ax, data_all):\n",
    "    \"\"\"\n",
    "    画出侧视图\n",
    "    :param ax: 画布\n",
    "    :param data: 侧视图数据\n",
    "    :return: 同轴度范围\n",
    "    \"\"\"\n",
    "\n",
    "\n",
    "def get_anays_ans(fig, data_all):\n",
    "    \"\"\"\n",
    "    获取所有数据的分析结果\n",
    "    :param fig: 画布\n",
    "    :param data_all: 所有数据\n",
    "    :return: 分析结果\n",
    "    \"\"\"\n",
    "\n",
    "\n",
    "def print_all(data_all):\n",
    "    \"\"\"\n",
    "    以一图流展示所有数据，包括三张截面图、主图、侧视图、数据总结表\n",
    "    :param data_all: 所有数据\n",
    "    :return:\n",
    "    \"\"\"\n",
    "    fig = plt.figure()\n",
    "    ax1 = fig.add_subplot(331)\n",
    "    ax2 = fig.add_subplot(332)\n",
    "    ax3 = fig.add_subplot(333)\n",
    "    # ax1.set_title(\"截面1\")\n",
    "    # ax2.set_title(\"截面2\")\n",
    "    # ax3.set_title(\"截面3\")\n",
    "    print_cross_section(ax1, data_all[\"1x\"], data_all[\"1y\"])\n",
    "    print_cross_section(ax2, data_all[\"2x\"], data_all[\"2y\"])\n",
    "    print_cross_section(ax3, data_all[\"3x\"], data_all[\"3y\"])\n",
    "\n",
    "    # ax4 = plt.subplot2grid((3, 3), (1, 0), rowspan=2, colspan=2, projection=\"3d\")\n",
    "    # print_main(ax4, data_all)\n",
    "\n",
    "    # ax5 = fig.add_subplot(336)\n",
    "    # print_side(ax5, data_all)\n",
    "\n",
    "    # get_anays_ans(fig, data_all)\n",
    "\n",
    "    plt.show()\n",
    "\n",
    "\n",
    "data_path = \"../data/截面数据_v1\"\n",
    "\n",
    "if __name__ == \"__main__\":\n",
    "    # 读取 data_path 下的所有后缀为 .txt 的文件，根据文件名封装为字典\n",
    "    file_list = [file for file in os.listdir(data_path) if file.endswith(\".txt\")]\n",
    "    data_all = {}\n",
    "    for file in file_list:\n",
    "        data = get_data_list(os.path.join(data_path, file))\n",
    "        data_all[file[:-4]] = data\n",
    "        print(\"读取文件：\", file, \"成功！\")\n",
    "    print_all(data_all)\n"
   ]
  }
 ],
 "metadata": {
  "kernelspec": {
   "display_name": "base",
   "language": "python",
   "name": "python3"
  },
  "language_info": {
   "codemirror_mode": {
    "name": "ipython",
    "version": 3
   },
   "file_extension": ".py",
   "mimetype": "text/x-python",
   "name": "python",
   "nbconvert_exporter": "python",
   "pygments_lexer": "ipython3",
   "version": "3.9.13"
  }
 },
 "nbformat": 4,
 "nbformat_minor": 2
}
